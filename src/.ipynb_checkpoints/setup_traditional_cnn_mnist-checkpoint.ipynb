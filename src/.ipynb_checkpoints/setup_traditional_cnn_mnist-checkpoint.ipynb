{
 "cells": [
  {
   "cell_type": "code",
   "execution_count": 1,
   "metadata": {},
   "outputs": [
    {
     "name": "stderr",
     "output_type": "stream",
     "text": [
      "/home/super-workstation/.local/lib/python3.6/site-packages/tensorflow/python/framework/dtypes.py:516: FutureWarning: Passing (type, 1) or '1type' as a synonym of type is deprecated; in a future version of numpy, it will be understood as (type, (1,)) / '(1,)type'.\n",
      "  _np_qint8 = np.dtype([(\"qint8\", np.int8, 1)])\n",
      "/home/super-workstation/.local/lib/python3.6/site-packages/tensorflow/python/framework/dtypes.py:517: FutureWarning: Passing (type, 1) or '1type' as a synonym of type is deprecated; in a future version of numpy, it will be understood as (type, (1,)) / '(1,)type'.\n",
      "  _np_quint8 = np.dtype([(\"quint8\", np.uint8, 1)])\n",
      "/home/super-workstation/.local/lib/python3.6/site-packages/tensorflow/python/framework/dtypes.py:518: FutureWarning: Passing (type, 1) or '1type' as a synonym of type is deprecated; in a future version of numpy, it will be understood as (type, (1,)) / '(1,)type'.\n",
      "  _np_qint16 = np.dtype([(\"qint16\", np.int16, 1)])\n",
      "/home/super-workstation/.local/lib/python3.6/site-packages/tensorflow/python/framework/dtypes.py:519: FutureWarning: Passing (type, 1) or '1type' as a synonym of type is deprecated; in a future version of numpy, it will be understood as (type, (1,)) / '(1,)type'.\n",
      "  _np_quint16 = np.dtype([(\"quint16\", np.uint16, 1)])\n",
      "/home/super-workstation/.local/lib/python3.6/site-packages/tensorflow/python/framework/dtypes.py:520: FutureWarning: Passing (type, 1) or '1type' as a synonym of type is deprecated; in a future version of numpy, it will be understood as (type, (1,)) / '(1,)type'.\n",
      "  _np_qint32 = np.dtype([(\"qint32\", np.int32, 1)])\n",
      "/home/super-workstation/.local/lib/python3.6/site-packages/tensorflow/python/framework/dtypes.py:525: FutureWarning: Passing (type, 1) or '1type' as a synonym of type is deprecated; in a future version of numpy, it will be understood as (type, (1,)) / '(1,)type'.\n",
      "  np_resource = np.dtype([(\"resource\", np.ubyte, 1)])\n",
      "/home/super-workstation/.local/lib/python3.6/site-packages/tensorboard/compat/tensorflow_stub/dtypes.py:541: FutureWarning: Passing (type, 1) or '1type' as a synonym of type is deprecated; in a future version of numpy, it will be understood as (type, (1,)) / '(1,)type'.\n",
      "  _np_qint8 = np.dtype([(\"qint8\", np.int8, 1)])\n",
      "/home/super-workstation/.local/lib/python3.6/site-packages/tensorboard/compat/tensorflow_stub/dtypes.py:542: FutureWarning: Passing (type, 1) or '1type' as a synonym of type is deprecated; in a future version of numpy, it will be understood as (type, (1,)) / '(1,)type'.\n",
      "  _np_quint8 = np.dtype([(\"quint8\", np.uint8, 1)])\n",
      "/home/super-workstation/.local/lib/python3.6/site-packages/tensorboard/compat/tensorflow_stub/dtypes.py:543: FutureWarning: Passing (type, 1) or '1type' as a synonym of type is deprecated; in a future version of numpy, it will be understood as (type, (1,)) / '(1,)type'.\n",
      "  _np_qint16 = np.dtype([(\"qint16\", np.int16, 1)])\n",
      "/home/super-workstation/.local/lib/python3.6/site-packages/tensorboard/compat/tensorflow_stub/dtypes.py:544: FutureWarning: Passing (type, 1) or '1type' as a synonym of type is deprecated; in a future version of numpy, it will be understood as (type, (1,)) / '(1,)type'.\n",
      "  _np_quint16 = np.dtype([(\"quint16\", np.uint16, 1)])\n",
      "/home/super-workstation/.local/lib/python3.6/site-packages/tensorboard/compat/tensorflow_stub/dtypes.py:545: FutureWarning: Passing (type, 1) or '1type' as a synonym of type is deprecated; in a future version of numpy, it will be understood as (type, (1,)) / '(1,)type'.\n",
      "  _np_qint32 = np.dtype([(\"qint32\", np.int32, 1)])\n",
      "/home/super-workstation/.local/lib/python3.6/site-packages/tensorboard/compat/tensorflow_stub/dtypes.py:550: FutureWarning: Passing (type, 1) or '1type' as a synonym of type is deprecated; in a future version of numpy, it will be understood as (type, (1,)) / '(1,)type'.\n",
      "  np_resource = np.dtype([(\"resource\", np.ubyte, 1)])\n"
     ]
    },
    {
     "name": "stdout",
     "output_type": "stream",
     "text": [
      "1.14.0\n"
     ]
    }
   ],
   "source": [
    "import tensorflow as tf\n",
    "import matplotlib.pyplot as plt\n",
    "#load data\n",
    "print(tf.__version__)\n",
    "mnist = tf.keras.datasets.mnist\n",
    "(x_train, y_train),(x_test, y_test) = mnist.load_data(\"/home/super-workstation/program/LearnDeepLearning/data/mnist.npz\")\n",
    "x_train, x_test = x_train/255.0, x_test/255.0"
   ]
  },
  {
   "cell_type": "code",
   "execution_count": 2,
   "metadata": {},
   "outputs": [
    {
     "name": "stderr",
     "output_type": "stream",
     "text": [
      "Using TensorFlow backend.\n",
      "WARNING: Logging before flag parsing goes to stderr.\n",
      "W0812 09:48:38.078193 140243120809792 deprecation_wrapper.py:119] From /home/super-workstation/.local/lib/python3.6/site-packages/keras/backend/tensorflow_backend.py:74: The name tf.get_default_graph is deprecated. Please use tf.compat.v1.get_default_graph instead.\n",
      "\n",
      "W0812 09:48:38.163241 140243120809792 deprecation_wrapper.py:119] From /home/super-workstation/.local/lib/python3.6/site-packages/keras/backend/tensorflow_backend.py:517: The name tf.placeholder is deprecated. Please use tf.compat.v1.placeholder instead.\n",
      "\n",
      "W0812 09:48:38.252479 140243120809792 deprecation_wrapper.py:119] From /home/super-workstation/.local/lib/python3.6/site-packages/keras/backend/tensorflow_backend.py:4138: The name tf.random_uniform is deprecated. Please use tf.random.uniform instead.\n",
      "\n",
      "W0812 09:48:38.269338 140243120809792 deprecation_wrapper.py:119] From /home/super-workstation/.local/lib/python3.6/site-packages/keras/backend/tensorflow_backend.py:133: The name tf.placeholder_with_default is deprecated. Please use tf.compat.v1.placeholder_with_default instead.\n",
      "\n",
      "W0812 09:48:38.280289 140243120809792 deprecation.py:506] From /home/super-workstation/.local/lib/python3.6/site-packages/keras/backend/tensorflow_backend.py:3445: calling dropout (from tensorflow.python.ops.nn_ops) with keep_prob is deprecated and will be removed in a future version.\n",
      "Instructions for updating:\n",
      "Please use `rate` instead of `keep_prob`. Rate should be set to `rate = 1 - keep_prob`.\n",
      "W0812 09:48:38.311900 140243120809792 deprecation_wrapper.py:119] From /home/super-workstation/.local/lib/python3.6/site-packages/keras/optimizers.py:790: The name tf.train.Optimizer is deprecated. Please use tf.compat.v1.train.Optimizer instead.\n",
      "\n",
      "W0812 09:48:38.322460 140243120809792 deprecation_wrapper.py:119] From /home/super-workstation/.local/lib/python3.6/site-packages/keras/backend/tensorflow_backend.py:3341: The name tf.log is deprecated. Please use tf.math.log instead.\n",
      "\n"
     ]
    },
    {
     "name": "stdout",
     "output_type": "stream",
     "text": [
      "(None, 784)\n",
      "(None, 1024)\n",
      "(None, 10)\n",
      "(60000, 28, 28)\n"
     ]
    },
    {
     "data": {
      "text/plain": [
       "'\\nmodel.fit(x_train, y_train, epochs=5)\\n'"
      ]
     },
     "execution_count": 2,
     "metadata": {},
     "output_type": "execute_result"
    }
   ],
   "source": [
    "# setup shallow network 一个隐藏层\n",
    "import keras\n",
    "from keras.models import Sequential\n",
    "from keras.layers import Dense, Flatten, Dropout\n",
    "from keras.optimizers import SGD\n",
    "\n",
    "model = Sequential()\n",
    "model.add(Flatten(input_shape=(28,28))) # 展开\n",
    "print(model.output_shape)\n",
    "model.add(Dense(1024, activation='relu')) # 全连接(隐藏层1)\n",
    "print(model.output_shape)\n",
    "model.add(Dropout(0.5))\n",
    "model.add(Dense(10, activation='softmax')) # 输出\n",
    "print(model.output_shape)\n",
    "\n",
    "sgd=SGD(lr=0.01, momentum=0.9, decay=1e-6, nesterov=True)\n",
    "model.compile(loss='sparse_categorical_crossentropy', optimizer='sgd', metrics=[\"accuracy\"]) # 编译\n",
    "\n",
    "# train model\n",
    "print(x_train.shape)\n",
    "'''\n",
    "model.fit(x_train, y_train, epochs=5)\n",
    "'''"
   ]
  },
  {
   "cell_type": "code",
   "execution_count": 3,
   "metadata": {},
   "outputs": [
    {
     "data": {
      "text/plain": [
       "'\\npredicts = model.predict(x_test)\\n\\nplt.figure(figsize=(10,10))\\nfor i in range(49):\\n    plt.subplot(7,7,i+1)\\n    plt.xticks([])\\n    plt.yticks([])\\n    plt.grid(False)\\n    #plt.imshow(x_test[i])#, cmap=plt.cm.binary)\\n    pred = predicts[i].tolist()\\n    pred_num = pred.index(max(pred))\\n    plt.xlabel(pred_num)\\n    plt.ylabel(y_test[i])\\n    if pred_num != y_test[i]:\\n        plt.imshow(x_test[i], cmap=plt.cm.binary)\\nplt.show()\\n'"
      ]
     },
     "execution_count": 3,
     "metadata": {},
     "output_type": "execute_result"
    }
   ],
   "source": [
    "'''\n",
    "predicts = model.predict(x_test)\n",
    "\n",
    "plt.figure(figsize=(10,10))\n",
    "for i in range(49):\n",
    "    plt.subplot(7,7,i+1)\n",
    "    plt.xticks([])\n",
    "    plt.yticks([])\n",
    "    plt.grid(False)\n",
    "    #plt.imshow(x_test[i])#, cmap=plt.cm.binary)\n",
    "    pred = predicts[i].tolist()\n",
    "    pred_num = pred.index(max(pred))\n",
    "    plt.xlabel(pred_num)\n",
    "    plt.ylabel(y_test[i])\n",
    "    if pred_num != y_test[i]:\n",
    "        plt.imshow(x_test[i], cmap=plt.cm.binary)\n",
    "plt.show()\n",
    "'''"
   ]
  },
  {
   "cell_type": "code",
   "execution_count": 4,
   "metadata": {},
   "outputs": [
    {
     "name": "stderr",
     "output_type": "stream",
     "text": [
      "W0812 09:48:51.290806 140243120809792 deprecation_wrapper.py:119] From /home/super-workstation/.local/lib/python3.6/site-packages/keras/backend/tensorflow_backend.py:3980: The name tf.nn.avg_pool is deprecated. Please use tf.nn.avg_pool2d instead.\n",
      "\n"
     ]
    },
    {
     "name": "stdout",
     "output_type": "stream",
     "text": [
      "conv2d_1-->  (None, 28, 28, 6)\n",
      "avg_pooling_1-->  (None, 14, 14, 6)\n",
      "conv2d_2-->  (None, 10, 10, 16)\n",
      "avg_pooling_2-->  (None, 5, 5, 16)\n",
      "flatten -->  (None, 400)\n",
      "full_1 -->  (None, 120)\n",
      "full_2 -->  (None, 84)\n",
      "output -->  (None, 10)\n"
     ]
    },
    {
     "data": {
      "text/plain": [
       "'\\n# train\\nimport datetime\\nx_train = x_train.reshape(x_train.shape[0], x_train.shape[1], x_train.shape[2], 1)\\nx_test = x_test.reshape(x_test.shape[0], x_test.shape[1], x_test.shape[2], 1)\\n# train\\nstart_tm = datetime.datetime.now()\\nmodel.fit(x_train, y_train, epochs=5)\\nend_tm = datetime.datetime.now()\\nprint(\"cost: \", (end_tm-start_tm).seconds)\\n\\n# evaluate\\nscores = model.evaluate(x_test, y_test)\\n\\nprint(\"loss: \", scores[0])\\nprint(\"ac: \", scores[1])\\n'"
      ]
     },
     "execution_count": 4,
     "metadata": {},
     "output_type": "execute_result"
    }
   ],
   "source": [
    "# (!!!error)setup letnet-5 (7 layers)\n",
    "# alias avg_pooling == ap\n",
    "# conv1 + ap_1(5*5) + cov2 + ap_2(5*5) + full_1 + full_2 + output\n",
    "import keras\n",
    "from keras.models import Sequential\n",
    "from keras.layers import Dense, Conv2D, Flatten, AveragePooling2D, Dropout\n",
    "from keras.optimizers import SGD\n",
    "\n",
    "model = Sequential()\n",
    "model.add(Conv2D(6, (5,5), padding='same', input_shape=(28,28,1))) #1\n",
    "print(\"conv2d_1--> \", model.output_shape)\n",
    "model.add(AveragePooling2D(pool_size=(2,2)))#2\n",
    "print(\"avg_pooling_1--> \", model.output_shape)\n",
    "model.add(Conv2D(16, (5,5)))#3\n",
    "print(\"conv2d_2--> \", model.output_shape)\n",
    "model.add(Dropout(0.375))\n",
    "model.add(AveragePooling2D(pool_size=(2,2)))#4\n",
    "print(\"avg_pooling_2--> \", model.output_shape)\n",
    "model.add(Flatten())\n",
    "print(\"flatten --> \", model.output_shape)\n",
    "model.add(Dense(120))#5\n",
    "print(\"full_1 --> \", model.output_shape)\n",
    "model.add(Dense(84))#6\n",
    "print(\"full_2 --> \", model.output_shape)\n",
    "model.add(Dense(10, activation='softmax'))\n",
    "print('output --> ', model.output_shape)#7\n",
    "\n",
    "# compile\n",
    "model.compile(optimizer='sgd', loss='sparse_categorical_crossentropy', metrics=['accuracy'])\n",
    "\n",
    "'''\n",
    "# train\n",
    "import datetime\n",
    "x_train = x_train.reshape(x_train.shape[0], x_train.shape[1], x_train.shape[2], 1)\n",
    "x_test = x_test.reshape(x_test.shape[0], x_test.shape[1], x_test.shape[2], 1)\n",
    "# train\n",
    "start_tm = datetime.datetime.now()\n",
    "model.fit(x_train, y_train, epochs=5)\n",
    "end_tm = datetime.datetime.now()\n",
    "print(\"cost: \", (end_tm-start_tm).seconds)\n",
    "\n",
    "# evaluate\n",
    "scores = model.evaluate(x_test, y_test)\n",
    "\n",
    "print(\"loss: \", scores[0])\n",
    "print(\"ac: \", scores[1])\n",
    "'''"
   ]
  },
  {
   "cell_type": "code",
   "execution_count": 5,
   "metadata": {},
   "outputs": [
    {
     "name": "stdout",
     "output_type": "stream",
     "text": [
      "padding-->  (None, 32, 32, 1)\n",
      "conv2d_1-->  (None, 28, 28, 6)\n",
      "avg_pooling_1-->  (None, 14, 14, 6)\n",
      "conv2d_2-->  (None, 10, 10, 16)\n",
      "avg_pooling_2-->  (None, 5, 5, 16)\n",
      "conv2d_3 -->  (None, 1, 1, 120)\n",
      "full_1 -->  (None, 84)\n",
      "output -->  (None, 10)\n"
     ]
    },
    {
     "name": "stderr",
     "output_type": "stream",
     "text": [
      "W0812 09:48:55.004034 140243120809792 deprecation.py:323] From /home/super-workstation/.local/lib/python3.6/site-packages/tensorflow/python/ops/math_grad.py:1250: add_dispatch_support.<locals>.wrapper (from tensorflow.python.ops.array_ops) is deprecated and will be removed in a future version.\n",
      "Instructions for updating:\n",
      "Use tf.where in 2.0, which has the same broadcast rule as np.where\n"
     ]
    },
    {
     "name": "stdout",
     "output_type": "stream",
     "text": [
      "Epoch 1/5\n",
      "60000/60000 [==============================] - 23s 378us/step - loss: 0.4273 - acc: 0.8854\n",
      "Epoch 2/5\n",
      "60000/60000 [==============================] - 4s 75us/step - loss: 0.2517 - acc: 0.9267\n",
      "Epoch 3/5\n",
      "60000/60000 [==============================] - 4s 75us/step - loss: 0.2097 - acc: 0.9399\n",
      "Epoch 4/5\n",
      "60000/60000 [==============================] - 5s 88us/step - loss: 0.1847 - acc: 0.9482\n",
      "Epoch 5/5\n",
      "60000/60000 [==============================] - 6s 94us/step - loss: 0.1680 - acc: 0.9515\n",
      "cost:  42\n",
      "10000/10000 [==============================] - 0s 31us/step\n",
      "loss:  0.15955320706665516\n",
      "ac:  0.9551\n"
     ]
    }
   ],
   "source": [
    "######## Lenet5 1998 #########\n",
    "# (correction)setup lenet-5 (7 layers) 原始版本\n",
    "# alias avg_pooling == ap\n",
    "# conv1 + ap_1(5*5) + cov2 + ap_2(5*5) + conv_3 + full_1 + output\n",
    "import keras\n",
    "from keras.models import Sequential\n",
    "from keras.layers import Dense, Conv2D, Flatten, AveragePooling2D, Dropout, ZeroPadding2D\n",
    "from keras.optimizers import SGD\n",
    "\n",
    "from keras.layers import Layer\n",
    "from keras import backend as K\n",
    "\n",
    "class RBFLayer(Layer):\n",
    "    def __init__(self, units, gamma, **kwargs):\n",
    "        super(RBFLayer, self).__init__(**kwargs)\n",
    "        self.units = units\n",
    "        self.gamma = K.cast_to_floatx(gamma)\n",
    "\n",
    "    def build(self, input_shape):\n",
    "        self.mu = self.add_weight(name='mu',\n",
    "                                  shape=(int(input_shape[1]), self.units),\n",
    "                                  initializer='uniform',\n",
    "                                  trainable=True)\n",
    "        super(RBFLayer, self).build(input_shape)\n",
    "\n",
    "    def call(self, inputs):\n",
    "        diff = K.expand_dims(inputs) - self.mu\n",
    "        l2 = K.sum(K.pow(diff,2), axis=1) # 高斯径向基函数\n",
    "        res = K.exp(-1 * self.gamma * l2) # \n",
    "        return res\n",
    "\n",
    "    def compute_output_shape(self, input_shape):\n",
    "        return (input_shape[0], self.units)\n",
    "\n",
    "model = Sequential()\n",
    "model.add(ZeroPadding2D(2, input_shape=(28,28,1)))\n",
    "print(\"padding--> \", model.output_shape) \n",
    "#1 28×28×6\n",
    "# 训练参数计算规则 （cx_size*cy_size*上一层维度（特征图个数）+1）*当前层维度\n",
    "# 连接数 当前层和上一层的连接数  训练参数个数*特征图w*特征图h\n",
    "# 训练参数 156 = （5×5+1）×6 \n",
    "# 连接数 122304 = （5×5+1）×6×（28×28）\n",
    "model.add(Conv2D(6, (5,5)))#1 \n",
    "print(\"conv2d_1--> \", model.output_shape) \n",
    "#2 14×14×6 \n",
    "#训练参数 12 6*(1+1) 当前层数（偏置+采样参数）\n",
    "#连接数 5880 = （2×2 + 1）*6*(14*14)\n",
    "model.add(AveragePooling2D(pool_size=(2,2)))#2\n",
    "print(\"avg_pooling_1--> \", model.output_shape)\n",
    "#3 10×10×16 \n",
    "#训练参数 1516 = (3*5*5+ 1)*6 + (4*5*5+1)*6 + (4*5*5+1)*3 + (6*5*5+1)\n",
    "#连接数 151600 = (3*5*5+ 1)*6×（10×10） + (4*5*5+1)*6×（10×10） + (4*5*5+1)*3*(10*10) + (6*5*5+1)*(10*10)\n",
    "model.add(Conv2D(16, (5,5)))#3\n",
    "print(\"conv2d_2--> \", model.output_shape)\n",
    "#4 5*5*16\n",
    "#训练参数 32 = 16*(1+1)\n",
    "#连接个数 2000 = （2*2*1 + 1）*6*(5*5) \n",
    "model.add(AveragePooling2D(pool_size=(2,2)))#4\n",
    "print(\"avg_pooling_2--> \", model.output_shape)\n",
    "#5 1*1*120\n",
    "#训练参数 48120 = (5*5*16 + 1)*120\n",
    "#连接个数 48120 = (5*5*16 + 1)*120*(1*1)\n",
    "model.add(Conv2D(120, (5,5)))#5\n",
    "print(\"conv2d_3 --> \", model.output_shape)\n",
    "model.add(Flatten())\n",
    "#6 1*1*84\n",
    "#训练参数 10164 = (1*1*120+1)*84\n",
    "#连接个数 10164 = (1*1*120+1)*84*(1*1)\n",
    "model.add(Dense(84, activation='tanh'))#6\n",
    "print(\"full_1 --> \", model.output_shape)\n",
    "#7 1*1*10\n",
    "#训练参数 850 = （1*1*84+1)*10(1*1)\n",
    "#连接个数 850 = （1*1*84+1)*10(1*1)\n",
    "#model.add(Dense(10, activation='sigmoid'))#7\n",
    "model.add(RBFLayer(10,0.5))\n",
    "print('output --> ', model.output_shape)\n",
    "\n",
    "# compile\n",
    "model.compile(optimizer='adam', loss='sparse_categorical_crossentropy', metrics=['accuracy'])\n",
    "\n",
    "import datetime\n",
    "train_data = x_train.reshape(x_train.shape[0], x_train.shape[1], x_train.shape[2], 1)\n",
    "test_data = x_test.reshape(x_test.shape[0], x_test.shape[1], x_test.shape[2], 1)\n",
    "train_label = y_train\n",
    "test_label = y_test\n",
    "\n",
    "# train\n",
    "start_tm = datetime.datetime.now()\n",
    "history = model.fit(train_data, train_label, epochs=5)\n",
    "end_tm = datetime.datetime.now()\n",
    "print(\"cost: \", (end_tm-start_tm).seconds)\n",
    "\n",
    "scores = model.evaluate(test_data, test_label)\n",
    "\n",
    "print(\"loss: \", scores[0])\n",
    "print(\"ac: \", scores[1])"
   ]
  },
  {
   "cell_type": "code",
   "execution_count": null,
   "metadata": {},
   "outputs": [],
   "source": [
    "########## Alexnet 2012 ###################\n",
    "# 数据预处理\n",
    "from dpl import utils\n",
    "\n",
    "dims = 227\n",
    "train_nums = 5000\n",
    "test_nums = 500\n",
    "\n",
    "# 首次处理数据 将mnist数据集转换成需要形式（227×227×3）\n",
    "# x_train, y_train x_test y_test mnist 原始数据集\n",
    "'''\n",
    "import tf\n",
    "mnist = tf.keras.datasets.mnist\n",
    "(x_train, y_train),(x_test, y_test) = mnist.load_data(\"/home/super-workstation/program/LearnDeepLearning/data/mnist.npz\")\n",
    "x_train, x_test = x_train/255.0, x_test/255.0\n",
    "'''\n",
    "\n",
    "alex_train_label = y_train[:train_nums]\n",
    "alex_test_label = y_test[:test_nums]\n",
    "\n",
    "alex_train_data = utils.preprocess4Alexnet(x_train, train_nums, dsize=(dims, dims))\n",
    "alex_test_data = utils.preprocess4Alexnet(x_test, test_nums, dsize=(dims, dims))\n",
    "\n",
    "from dpl.alexnet import data_io\n",
    "data_io.save_data(\"../data/alex_mnist_data_\" + str(dims) + \".npz\", \n",
    "                 alex_train_data, alex_train_label,\n",
    "                 alex_test_data, alex_test_label)\n",
    "\n",
    "\n",
    "\n",
    "from dpl.alexnet import data_io\n",
    "(train_data, train_label),(test_data, test_label) = data_io.load_data(\"../data/alex_mnist_data_\" + str(dims) + \".npz\")\n",
    "\n",
    "print(train_data.shape, \" \", train_label.shape, \" \", test_data.shape, \" \", test_label.shape)"
   ]
  },
  {
   "cell_type": "code",
   "execution_count": 18,
   "metadata": {},
   "outputs": [
    {
     "name": "stdout",
     "output_type": "stream",
     "text": [
      "conv_1（input）:  (None, 55, 55, 96)\n",
      "max_pool_1:  (None, 27, 27, 96)\n",
      "conv_2:  (None, 27, 27, 256)\n",
      "max_pool_2:  (None, 13, 13, 256)\n",
      "conv_3:  (None, 13, 13, 384)\n",
      "conv_4:  (None, 13, 13, 384)\n",
      "conv_5:  (None, 13, 13, 256)\n",
      "max_pool_3 (None, 6, 6, 256)\n",
      "full_1:  (None, 1, 1, 4096)\n",
      "flatten:  (None, 4096)\n",
      "full_2:  (None, 4096)\n",
      "full_3(output):  (None, 10)\n",
      "Train on 4500 samples, validate on 500 samples\n",
      "Epoch 1/12\n",
      "4500/4500 [==============================] - 16s 3ms/step - loss: 1.2730 - acc: 0.5620 - val_loss: 0.3172 - val_acc: 0.9120\n",
      "Epoch 2/12\n",
      "4500/4500 [==============================] - 14s 3ms/step - loss: 0.2742 - acc: 0.9169 - val_loss: 0.2504 - val_acc: 0.9280\n",
      "Epoch 3/12\n",
      "4500/4500 [==============================] - 14s 3ms/step - loss: 0.1787 - acc: 0.9456 - val_loss: 0.1364 - val_acc: 0.9600\n",
      "Epoch 4/12\n",
      "4500/4500 [==============================] - 15s 3ms/step - loss: 0.1256 - acc: 0.9627 - val_loss: 0.1261 - val_acc: 0.9520\n",
      "Epoch 5/12\n",
      "4500/4500 [==============================] - 14s 3ms/step - loss: 0.1027 - acc: 0.9696 - val_loss: 0.1689 - val_acc: 0.9420\n",
      "Epoch 6/12\n",
      "4500/4500 [==============================] - 15s 3ms/step - loss: 0.0861 - acc: 0.9742 - val_loss: 0.0976 - val_acc: 0.9760\n",
      "Epoch 7/12\n",
      "4500/4500 [==============================] - 15s 3ms/step - loss: 0.0728 - acc: 0.9793 - val_loss: 0.0712 - val_acc: 0.9740\n",
      "Epoch 8/12\n",
      "4500/4500 [==============================] - 15s 3ms/step - loss: 0.0633 - acc: 0.9807 - val_loss: 0.0756 - val_acc: 0.9780\n",
      "Epoch 9/12\n",
      "4500/4500 [==============================] - 15s 3ms/step - loss: 0.0532 - acc: 0.9849 - val_loss: 0.0727 - val_acc: 0.9780\n",
      "Epoch 10/12\n",
      "4500/4500 [==============================] - 15s 3ms/step - loss: 0.0415 - acc: 0.9869 - val_loss: 0.0702 - val_acc: 0.9820\n",
      "Epoch 11/12\n",
      "4500/4500 [==============================] - 14s 3ms/step - loss: 0.0349 - acc: 0.9904 - val_loss: 0.0616 - val_acc: 0.9800\n",
      "Epoch 12/12\n",
      "4500/4500 [==============================] - 14s 3ms/step - loss: 0.0350 - acc: 0.9884 - val_loss: 0.0598 - val_acc: 0.9780\n",
      "5000/5000 [==============================] - 6s 1ms/step\n",
      "loss:  0.01609428032399155\n",
      "cost:  0.995\n"
     ]
    },
    {
     "data": {
      "image/png": "[encoded data removed]",
      "text/plain": [
       "<Figure size 432x288 with 1 Axes>"
      ]
     },
     "metadata": {
      "needs_background": "light"
     },
     "output_type": "display_data"
    },
    {
     "data": {
      "image/png": "[encoded data removed]",
      "text/plain": [
       "<Figure size 432x288 with 1 Axes>"
      ]
     },
     "metadata": {
      "needs_background": "light"
     },
     "output_type": "display_data"
    }
   ],
   "source": [
    "########## Alexnet 2012 ###################\n",
    "# 8 layers 5 conv + 3 maxpool + 2 full + 1 output\n",
    "# 1-2 layers: conv(11*11, 5*5) + relu + normal + maxpool\n",
    "# 3-4 layers: conv(3*3, 3*3) + relu\n",
    "# 5 layers: conv + relu + maxpool\n",
    "# 6 layers: full(4096) + relu\n",
    "# 7 layers: full(4096)\n",
    "# 8 layers: full(1000 output)\n",
    "# 9 layers: full(10) 为mnist数据额外添加（因为mnist手写数据有10个类别）\n",
    "import keras\n",
    "from keras.layers import Conv2D, Dense, MaxPool2D, BatchNormalization, Dropout, Flatten\n",
    "from keras.models import Sequential\n",
    "\n",
    "model = Sequential()\n",
    "# 1 \n",
    "# conv1\n",
    "# output dim = (227-11)/4 + 1 = 55 --> 55*55*96\n",
    "model.add(Conv2D(96, (11,11), strides=4, activation='relu', input_shape=(227, 227, 3)))\n",
    "print(\"conv_1（input）: \", model.output_shape)\n",
    "# normalize layers\n",
    "model.add(BatchNormalization())\n",
    "# max_pool_1 27*27*96\n",
    "model.add(MaxPool2D(pool_size=(3,3), strides=2))\n",
    "print(\"max_pool_1: \", model.output_shape)\n",
    "# 2\n",
    "# conv2 27*27*256\n",
    "model.add(Conv2D(256, (5,5), padding='same', activation='relu'))\n",
    "print(\"conv_2: \", model.output_shape)\n",
    "# normalize layers\n",
    "model.add(BatchNormalization())\n",
    "# max_pool_2 13*13*256\n",
    "model.add(MaxPool2D(pool_size=(3,3), strides=2))\n",
    "print(\"max_pool_2: \", model.output_shape)\n",
    "# 3\n",
    "# conv3 13*13*384\n",
    "model.add(Conv2D(384, (3,3), padding='same', activation='relu'))\n",
    "print(\"conv_3: \", model.output_shape)\n",
    "# 4\n",
    "# conv4 13*13*384\n",
    "model.add(Conv2D(384, (3,3), padding='same', activation='relu'))\n",
    "print(\"conv_4: \", model.output_shape)\n",
    "# 5\n",
    "# conv5 13*13*256\n",
    "model.add(Conv2D(256, (3,3), padding='same', activation='relu'))\n",
    "print(\"conv_5: \", model.output_shape)\n",
    "# max_pool_3 6*6*256\n",
    "model.add(MaxPool2D(pool_size=(3,3), strides=2))\n",
    "print(\"max_pool_3\", model.output_shape)\n",
    "\n",
    "# 6\n",
    "# full_1\n",
    "model.add(Conv2D(4096, (6,6), activation='relu'))\n",
    "print(\"full_1: \", model.output_shape)\n",
    "model.add(Dropout(0.5))\n",
    "model.add(Flatten())\n",
    "print(\"flatten: \", model.output_shape)\n",
    "# 7\n",
    "# full_2\n",
    "model.add(Dense(4096, activation='relu'))\n",
    "print(\"full_2: \", model.output_shape)\n",
    "model.add(Dropout(0.5))\n",
    "# 8\n",
    "# full_3\n",
    "#model.add(Dense(1000, activation='softmax'))\n",
    "# change for apply mnist\n",
    "model.add(Dense(1000, activation='relu'))\n",
    "model.add(Dropout(0.5))                \n",
    "model.add(Dense(10, activation='softmax'))  \n",
    "print(\"full_3(output): \", model.output_shape)\n",
    "\n",
    "# !使用adam 会导致结果不收敛\n",
    "model.compile(optimizer='sgd', loss='sparse_categorical_crossentropy', metrics=['accuracy'])\n",
    "\n",
    "# train model\n",
    "history = model.fit(train_data, train_label, validation_split=0.1, epochs=12)\n",
    "\n",
    "# evaluate model\n",
    "scores = model.evaluate(train_data, train_label)\n",
    "print(\"loss: \", scores[0])\n",
    "print(\"cost: \", scores[1])\n",
    "\n",
    "plt.plot(history.history['acc'])\n",
    "plt.plot(history.history['val_acc'])\n",
    "plt.title('Model accuracy')\n",
    "plt.ylabel('Accuracy')\n",
    "plt.xlabel('Epoch')\n",
    "plt.legend(['Train', 'Test'], loc='upper left')\n",
    "plt.show()\n",
    "\n",
    "# Plot training & validation loss values\n",
    "plt.plot(history.history['loss'])\n",
    "plt.plot(history.history['val_loss'])\n",
    "plt.title('Model loss')\n",
    "plt.ylabel('Loss')\n",
    "plt.xlabel('Epoch')\n",
    "plt.legend(['Train', 'Test'], loc='upper left')\n",
    "plt.show()"
   ]
  },
  {
   "cell_type": "code",
   "execution_count": 37,
   "metadata": {},
   "outputs": [
    {
     "ename": "ValueError",
     "evalue": "Input arrays should have the same number of samples as target arrays. Found 5000 input samples and 60000 target samples.",
     "output_type": "error",
     "traceback": [
      "\u001b[0;31m---------------------------------------------------------------------------\u001b[0m",
      "\u001b[0;31mValueError\u001b[0m                                Traceback (most recent call last)",
      "\u001b[0;32m<ipython-input-37-cfe7b470996d>\u001b[0m in \u001b[0;36m<module>\u001b[0;34m\u001b[0m\n\u001b[1;32m      4\u001b[0m \u001b[0;31m#test_image = [cv2.cvtColor(cv2.resize(img,(image_size,image_size)),cv2.COLOR_GRAY2BGR) for img in x_test]\u001b[0m\u001b[0;34m\u001b[0m\u001b[0;34m\u001b[0m\u001b[0;34m\u001b[0m\u001b[0m\n\u001b[1;32m      5\u001b[0m \u001b[0;31m# 训练数据\u001b[0m\u001b[0;34m\u001b[0m\u001b[0;34m\u001b[0m\u001b[0;34m\u001b[0m\u001b[0m\n\u001b[0;32m----> 6\u001b[0;31m \u001b[0mmodel\u001b[0m\u001b[0;34m.\u001b[0m\u001b[0mfit\u001b[0m\u001b[0;34m(\u001b[0m\u001b[0mtrain_data\u001b[0m\u001b[0;34m,\u001b[0m \u001b[0my_train\u001b[0m\u001b[0;34m,\u001b[0m \u001b[0mepochs\u001b[0m\u001b[0;34m=\u001b[0m\u001b[0;36m50\u001b[0m\u001b[0;34m)\u001b[0m\u001b[0;34m\u001b[0m\u001b[0;34m\u001b[0m\u001b[0m\n\u001b[0m",
      "\u001b[0;32m~/.local/lib/python3.6/site-packages/keras/engine/training.py\u001b[0m in \u001b[0;36mfit\u001b[0;34m(self, x, y, batch_size, epochs, verbose, callbacks, validation_split, validation_data, shuffle, class_weight, sample_weight, initial_epoch, steps_per_epoch, validation_steps, **kwargs)\u001b[0m\n\u001b[1;32m    950\u001b[0m             \u001b[0msample_weight\u001b[0m\u001b[0;34m=\u001b[0m\u001b[0msample_weight\u001b[0m\u001b[0;34m,\u001b[0m\u001b[0;34m\u001b[0m\u001b[0;34m\u001b[0m\u001b[0m\n\u001b[1;32m    951\u001b[0m             \u001b[0mclass_weight\u001b[0m\u001b[0;34m=\u001b[0m\u001b[0mclass_weight\u001b[0m\u001b[0;34m,\u001b[0m\u001b[0;34m\u001b[0m\u001b[0;34m\u001b[0m\u001b[0m\n\u001b[0;32m--> 952\u001b[0;31m             batch_size=batch_size)\n\u001b[0m\u001b[1;32m    953\u001b[0m         \u001b[0;31m# Prepare validation data.\u001b[0m\u001b[0;34m\u001b[0m\u001b[0;34m\u001b[0m\u001b[0;34m\u001b[0m\u001b[0m\n\u001b[1;32m    954\u001b[0m         \u001b[0mdo_validation\u001b[0m \u001b[0;34m=\u001b[0m \u001b[0;32mFalse\u001b[0m\u001b[0;34m\u001b[0m\u001b[0;34m\u001b[0m\u001b[0m\n",
      "\u001b[0;32m~/.local/lib/python3.6/site-packages/keras/engine/training.py\u001b[0m in \u001b[0;36m_standardize_user_data\u001b[0;34m(self, x, y, sample_weight, class_weight, check_array_lengths, batch_size)\u001b[0m\n\u001b[1;32m    802\u001b[0m             ]\n\u001b[1;32m    803\u001b[0m             \u001b[0;31m# Check that all arrays have the same length.\u001b[0m\u001b[0;34m\u001b[0m\u001b[0;34m\u001b[0m\u001b[0;34m\u001b[0m\u001b[0m\n\u001b[0;32m--> 804\u001b[0;31m             \u001b[0mcheck_array_length_consistency\u001b[0m\u001b[0;34m(\u001b[0m\u001b[0mx\u001b[0m\u001b[0;34m,\u001b[0m \u001b[0my\u001b[0m\u001b[0;34m,\u001b[0m \u001b[0msample_weights\u001b[0m\u001b[0;34m)\u001b[0m\u001b[0;34m\u001b[0m\u001b[0;34m\u001b[0m\u001b[0m\n\u001b[0m\u001b[1;32m    805\u001b[0m             \u001b[0;32mif\u001b[0m \u001b[0mself\u001b[0m\u001b[0;34m.\u001b[0m\u001b[0m_is_graph_network\u001b[0m\u001b[0;34m:\u001b[0m\u001b[0;34m\u001b[0m\u001b[0;34m\u001b[0m\u001b[0m\n\u001b[1;32m    806\u001b[0m                 \u001b[0;31m# Additional checks to avoid users mistakenly\u001b[0m\u001b[0;34m\u001b[0m\u001b[0;34m\u001b[0m\u001b[0;34m\u001b[0m\u001b[0m\n",
      "\u001b[0;32m~/.local/lib/python3.6/site-packages/keras/engine/training_utils.py\u001b[0m in \u001b[0;36mcheck_array_length_consistency\u001b[0;34m(inputs, targets, weights)\u001b[0m\n\u001b[1;32m    235\u001b[0m                          \u001b[0;34m'the same number of samples as target arrays. '\u001b[0m\u001b[0;34m\u001b[0m\u001b[0;34m\u001b[0m\u001b[0m\n\u001b[1;32m    236\u001b[0m                          \u001b[0;34m'Found '\u001b[0m \u001b[0;34m+\u001b[0m \u001b[0mstr\u001b[0m\u001b[0;34m(\u001b[0m\u001b[0mlist\u001b[0m\u001b[0;34m(\u001b[0m\u001b[0mset_x\u001b[0m\u001b[0;34m)\u001b[0m\u001b[0;34m[\u001b[0m\u001b[0;36m0\u001b[0m\u001b[0;34m]\u001b[0m\u001b[0;34m)\u001b[0m \u001b[0;34m+\u001b[0m \u001b[0;34m' input samples '\u001b[0m\u001b[0;34m\u001b[0m\u001b[0;34m\u001b[0m\u001b[0m\n\u001b[0;32m--> 237\u001b[0;31m                          'and ' + str(list(set_y)[0]) + ' target samples.')\n\u001b[0m\u001b[1;32m    238\u001b[0m     \u001b[0;32mif\u001b[0m \u001b[0mlen\u001b[0m\u001b[0;34m(\u001b[0m\u001b[0mset_w\u001b[0m\u001b[0;34m)\u001b[0m \u001b[0;34m>\u001b[0m \u001b[0;36m1\u001b[0m\u001b[0;34m:\u001b[0m\u001b[0;34m\u001b[0m\u001b[0;34m\u001b[0m\u001b[0m\n\u001b[1;32m    239\u001b[0m         raise ValueError('All sample_weight arrays should have '\n",
      "\u001b[0;31mValueError\u001b[0m: Input arrays should have the same number of samples as target arrays. Found 5000 input samples and 60000 target samples."
     ]
    }
   ],
   "source": [
    "'''\n",
    "import cv2\n",
    "image_size = 227\n",
    "train_image = [cv2.cvtColor(cv2.resize(img,(image_size,image_size)),cv2.COLOR_GRAY2BGR) for img in x_train.astype('float32')]\n",
    "#test_image = [cv2.cvtColor(cv2.resize(img,(image_size,image_size)),cv2.COLOR_GRAY2BGR) for img in x_test]\n",
    "'''\n"
   ]
  },
  {
   "cell_type": "code",
   "execution_count": 35,
   "metadata": {},
   "outputs": [
    {
     "ename": "AttributeError",
     "evalue": "module 'dpl.utils' has no attribute 'showAccLossCurve'",
     "output_type": "error",
     "traceback": [
      "\u001b[0;31m---------------------------------------------------------------------------\u001b[0m",
      "\u001b[0;31mAttributeError\u001b[0m                            Traceback (most recent call last)",
      "\u001b[0;32m<ipython-input-35-0405a085a550>\u001b[0m in \u001b[0;36m<module>\u001b[0;34m\u001b[0m\n\u001b[1;32m      1\u001b[0m \u001b[0;32mfrom\u001b[0m \u001b[0mdpl\u001b[0m \u001b[0;32mimport\u001b[0m \u001b[0mutils\u001b[0m\u001b[0;34m\u001b[0m\u001b[0;34m\u001b[0m\u001b[0m\n\u001b[0;32m----> 2\u001b[0;31m \u001b[0mutils\u001b[0m\u001b[0;34m.\u001b[0m\u001b[0mshowAccLossCurve\u001b[0m\u001b[0;34m(\u001b[0m\u001b[0mhistory\u001b[0m\u001b[0;34m)\u001b[0m\u001b[0;34m\u001b[0m\u001b[0;34m\u001b[0m\u001b[0m\n\u001b[0m\u001b[1;32m      3\u001b[0m \u001b[0mutils\u001b[0m\u001b[0;34m.\u001b[0m\u001b[0mshowImages\u001b[0m\u001b[0;34m(\u001b[0m\u001b[0mtrain_data\u001b[0m\u001b[0;34m)\u001b[0m\u001b[0;34m\u001b[0m\u001b[0;34m\u001b[0m\u001b[0m\n",
      "\u001b[0;31mAttributeError\u001b[0m: module 'dpl.utils' has no attribute 'showAccLossCurve'"
     ]
    }
   ],
   "source": [
    "from dpl import utils\n",
    "utils.showAccLossCurve(history)\n",
    "utils.showImages(train_data)"
   ]
  },
  {
   "cell_type": "code",
   "execution_count": null,
   "metadata": {},
   "outputs": [],
   "source": []
  }
 ],
 "metadata": {
  "kernelspec": {
   "display_name": "Python 3",
   "language": "python",
   "name": "python3"
  },
  "language_info": {
   "codemirror_mode": {
    "name": "ipython",
    "version": 3
   },
   "file_extension": ".py",
   "mimetype": "text/x-python",
   "name": "python",
   "nbconvert_exporter": "python",
   "pygments_lexer": "ipython3",
   "version": "3.6.7"
  }
 },
 "nbformat": 4,
 "nbformat_minor": 2
}
