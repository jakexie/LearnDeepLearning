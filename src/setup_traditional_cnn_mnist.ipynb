{
 "cells": [
  {
   "cell_type": "code",
   "execution_count": 1,
   "metadata": {},
   "outputs": [
    {
     "name": "stderr",
     "output_type": "stream",
     "text": [
      "/home/super-workstation/.local/lib/python3.6/site-packages/tensorflow/python/framework/dtypes.py:516: FutureWarning: Passing (type, 1) or '1type' as a synonym of type is deprecated; in a future version of numpy, it will be understood as (type, (1,)) / '(1,)type'.\n",
      "  _np_qint8 = np.dtype([(\"qint8\", np.int8, 1)])\n",
      "/home/super-workstation/.local/lib/python3.6/site-packages/tensorflow/python/framework/dtypes.py:517: FutureWarning: Passing (type, 1) or '1type' as a synonym of type is deprecated; in a future version of numpy, it will be understood as (type, (1,)) / '(1,)type'.\n",
      "  _np_quint8 = np.dtype([(\"quint8\", np.uint8, 1)])\n",
      "/home/super-workstation/.local/lib/python3.6/site-packages/tensorflow/python/framework/dtypes.py:518: FutureWarning: Passing (type, 1) or '1type' as a synonym of type is deprecated; in a future version of numpy, it will be understood as (type, (1,)) / '(1,)type'.\n",
      "  _np_qint16 = np.dtype([(\"qint16\", np.int16, 1)])\n",
      "/home/super-workstation/.local/lib/python3.6/site-packages/tensorflow/python/framework/dtypes.py:519: FutureWarning: Passing (type, 1) or '1type' as a synonym of type is deprecated; in a future version of numpy, it will be understood as (type, (1,)) / '(1,)type'.\n",
      "  _np_quint16 = np.dtype([(\"quint16\", np.uint16, 1)])\n",
      "/home/super-workstation/.local/lib/python3.6/site-packages/tensorflow/python/framework/dtypes.py:520: FutureWarning: Passing (type, 1) or '1type' as a synonym of type is deprecated; in a future version of numpy, it will be understood as (type, (1,)) / '(1,)type'.\n",
      "  _np_qint32 = np.dtype([(\"qint32\", np.int32, 1)])\n",
      "/home/super-workstation/.local/lib/python3.6/site-packages/tensorflow/python/framework/dtypes.py:525: FutureWarning: Passing (type, 1) or '1type' as a synonym of type is deprecated; in a future version of numpy, it will be understood as (type, (1,)) / '(1,)type'.\n",
      "  np_resource = np.dtype([(\"resource\", np.ubyte, 1)])\n",
      "/home/super-workstation/.local/lib/python3.6/site-packages/tensorboard/compat/tensorflow_stub/dtypes.py:541: FutureWarning: Passing (type, 1) or '1type' as a synonym of type is deprecated; in a future version of numpy, it will be understood as (type, (1,)) / '(1,)type'.\n",
      "  _np_qint8 = np.dtype([(\"qint8\", np.int8, 1)])\n",
      "/home/super-workstation/.local/lib/python3.6/site-packages/tensorboard/compat/tensorflow_stub/dtypes.py:542: FutureWarning: Passing (type, 1) or '1type' as a synonym of type is deprecated; in a future version of numpy, it will be understood as (type, (1,)) / '(1,)type'.\n",
      "  _np_quint8 = np.dtype([(\"quint8\", np.uint8, 1)])\n",
      "/home/super-workstation/.local/lib/python3.6/site-packages/tensorboard/compat/tensorflow_stub/dtypes.py:543: FutureWarning: Passing (type, 1) or '1type' as a synonym of type is deprecated; in a future version of numpy, it will be understood as (type, (1,)) / '(1,)type'.\n",
      "  _np_qint16 = np.dtype([(\"qint16\", np.int16, 1)])\n",
      "/home/super-workstation/.local/lib/python3.6/site-packages/tensorboard/compat/tensorflow_stub/dtypes.py:544: FutureWarning: Passing (type, 1) or '1type' as a synonym of type is deprecated; in a future version of numpy, it will be understood as (type, (1,)) / '(1,)type'.\n",
      "  _np_quint16 = np.dtype([(\"quint16\", np.uint16, 1)])\n",
      "/home/super-workstation/.local/lib/python3.6/site-packages/tensorboard/compat/tensorflow_stub/dtypes.py:545: FutureWarning: Passing (type, 1) or '1type' as a synonym of type is deprecated; in a future version of numpy, it will be understood as (type, (1,)) / '(1,)type'.\n",
      "  _np_qint32 = np.dtype([(\"qint32\", np.int32, 1)])\n",
      "/home/super-workstation/.local/lib/python3.6/site-packages/tensorboard/compat/tensorflow_stub/dtypes.py:550: FutureWarning: Passing (type, 1) or '1type' as a synonym of type is deprecated; in a future version of numpy, it will be understood as (type, (1,)) / '(1,)type'.\n",
      "  np_resource = np.dtype([(\"resource\", np.ubyte, 1)])\n"
     ]
    },
    {
     "name": "stdout",
     "output_type": "stream",
     "text": [
      "1.14.0\n"
     ]
    }
   ],
   "source": [
    "import tensorflow as tf\n",
    "import matplotlib.pyplot as plt\n",
    "#load data\n",
    "print(tf.__version__)\n",
    "mnist = tf.keras.datasets.mnist\n",
    "(x_train, y_train),(x_test, y_test) = mnist.load_data(\"/home/super-workstation/program/deep-learning/MNIST_data/mnist.npz\")\n",
    "x_train, x_test = x_train/255.0, x_test/255.0"
   ]
  },
  {
   "cell_type": "code",
   "execution_count": 2,
   "metadata": {},
   "outputs": [
    {
     "name": "stderr",
     "output_type": "stream",
     "text": [
      "Using TensorFlow backend.\n",
      "WARNING: Logging before flag parsing goes to stderr.\n",
      "W0808 11:25:46.719682 140453909714752 deprecation_wrapper.py:119] From /home/super-workstation/.local/lib/python3.6/site-packages/keras/backend/tensorflow_backend.py:74: The name tf.get_default_graph is deprecated. Please use tf.compat.v1.get_default_graph instead.\n",
      "\n",
      "W0808 11:25:46.798406 140453909714752 deprecation_wrapper.py:119] From /home/super-workstation/.local/lib/python3.6/site-packages/keras/backend/tensorflow_backend.py:517: The name tf.placeholder is deprecated. Please use tf.compat.v1.placeholder instead.\n",
      "\n",
      "W0808 11:25:46.855119 140453909714752 deprecation_wrapper.py:119] From /home/super-workstation/.local/lib/python3.6/site-packages/keras/backend/tensorflow_backend.py:4138: The name tf.random_uniform is deprecated. Please use tf.random.uniform instead.\n",
      "\n",
      "W0808 11:25:46.869084 140453909714752 deprecation_wrapper.py:119] From /home/super-workstation/.local/lib/python3.6/site-packages/keras/backend/tensorflow_backend.py:133: The name tf.placeholder_with_default is deprecated. Please use tf.compat.v1.placeholder_with_default instead.\n",
      "\n",
      "W0808 11:25:46.877011 140453909714752 deprecation.py:506] From /home/super-workstation/.local/lib/python3.6/site-packages/keras/backend/tensorflow_backend.py:3445: calling dropout (from tensorflow.python.ops.nn_ops) with keep_prob is deprecated and will be removed in a future version.\n",
      "Instructions for updating:\n",
      "Please use `rate` instead of `keep_prob`. Rate should be set to `rate = 1 - keep_prob`.\n",
      "W0808 11:25:46.908018 140453909714752 deprecation_wrapper.py:119] From /home/super-workstation/.local/lib/python3.6/site-packages/keras/optimizers.py:790: The name tf.train.Optimizer is deprecated. Please use tf.compat.v1.train.Optimizer instead.\n",
      "\n",
      "W0808 11:25:46.918139 140453909714752 deprecation_wrapper.py:119] From /home/super-workstation/.local/lib/python3.6/site-packages/keras/backend/tensorflow_backend.py:3341: The name tf.log is deprecated. Please use tf.math.log instead.\n",
      "\n"
     ]
    },
    {
     "name": "stdout",
     "output_type": "stream",
     "text": [
      "(None, 784)\n",
      "(None, 1024)\n",
      "(None, 10)\n",
      "(60000, 28, 28)\n"
     ]
    },
    {
     "name": "stderr",
     "output_type": "stream",
     "text": [
      "W0808 11:25:47.115206 140453909714752 deprecation.py:323] From /home/super-workstation/.local/lib/python3.6/site-packages/tensorflow/python/ops/math_grad.py:1250: add_dispatch_support.<locals>.wrapper (from tensorflow.python.ops.array_ops) is deprecated and will be removed in a future version.\n",
      "Instructions for updating:\n",
      "Use tf.where in 2.0, which has the same broadcast rule as np.where\n"
     ]
    },
    {
     "name": "stdout",
     "output_type": "stream",
     "text": [
      "Epoch 1/5\n",
      "60000/60000 [==============================] - 15s 251us/step - loss: 0.6508 - acc: 0.8262\n",
      "Epoch 2/5\n",
      "60000/60000 [==============================] - 3s 44us/step - loss: 0.3533 - acc: 0.8993\n",
      "Epoch 3/5\n",
      "60000/60000 [==============================] - 3s 43us/step - loss: 0.2964 - acc: 0.9163\n",
      "Epoch 4/5\n",
      "60000/60000 [==============================] - 3s 45us/step - loss: 0.2610 - acc: 0.9261\n",
      "Epoch 5/5\n",
      "60000/60000 [==============================] - 3s 44us/step - loss: 0.2337 - acc: 0.9345\n"
     ]
    },
    {
     "data": {
      "text/plain": [
       "<keras.callbacks.History at 0x7fbd6ce89668>"
      ]
     },
     "execution_count": 2,
     "metadata": {},
     "output_type": "execute_result"
    }
   ],
   "source": [
    "# setup shallow network 一个隐藏层\n",
    "import keras\n",
    "from keras.models import Sequential\n",
    "from keras.layers import Dense, Flatten, Dropout\n",
    "from keras.optimizers import SGD\n",
    "\n",
    "model = Sequential()\n",
    "model.add(Flatten(input_shape=(28,28))) # 展开\n",
    "print(model.output_shape)\n",
    "model.add(Dense(1024, activation='relu')) # 全连接(隐藏层1)\n",
    "print(model.output_shape)\n",
    "model.add(Dropout(0.5))\n",
    "model.add(Dense(10, activation='softmax')) # 输出\n",
    "print(model.output_shape)\n",
    "\n",
    "sgd=SGD(lr=0.01, momentum=0.9, decay=1e-6, nesterov=True)\n",
    "model.compile(loss='sparse_categorical_crossentropy', optimizer='sgd', metrics=[\"accuracy\"]) # 编译\n",
    "\n",
    "# train model\n",
    "print(x_train.shape)\n",
    "model.fit(x_train, y_train, epochs=5)"
   ]
  },
  {
   "cell_type": "code",
   "execution_count": 3,
   "metadata": {},
   "outputs": [
    {
     "data": {
      "image/png": "[encoded data removed]",
      "text/plain": [
       "<Figure size 720x720 with 49 Axes>"
      ]
     },
     "metadata": {},
     "output_type": "display_data"
    }
   ],
   "source": [
    "predicts = model.predict(x_test)\n",
    "\n",
    "plt.figure(figsize=(10,10))\n",
    "for i in range(49):\n",
    "    plt.subplot(7,7,i+1)\n",
    "    plt.xticks([])\n",
    "    plt.yticks([])\n",
    "    plt.grid(False)\n",
    "    #plt.imshow(x_test[i])#, cmap=plt.cm.binary)\n",
    "    pred = predicts[i].tolist()\n",
    "    pred_num = pred.index(max(pred))\n",
    "    plt.xlabel(pred_num)\n",
    "    plt.ylabel(y_test[i])\n",
    "    if pred_num != y_test[i]:\n",
    "        plt.imshow(x_test[i], cmap=plt.cm.binary)\n",
    "plt.show()"
   ]
  },
  {
   "cell_type": "code",
   "execution_count": 4,
   "metadata": {},
   "outputs": [
    {
     "name": "stderr",
     "output_type": "stream",
     "text": [
      "W0808 11:26:14.079864 140453909714752 deprecation_wrapper.py:119] From /home/super-workstation/.local/lib/python3.6/site-packages/keras/backend/tensorflow_backend.py:3980: The name tf.nn.avg_pool is deprecated. Please use tf.nn.avg_pool2d instead.\n",
      "\n"
     ]
    },
    {
     "name": "stdout",
     "output_type": "stream",
     "text": [
      "conv2d_1-->  (None, 28, 28, 6)\n",
      "avg_pooling_1-->  (None, 14, 14, 6)\n",
      "conv2d_2-->  (None, 10, 10, 16)\n",
      "avg_pooling_2-->  (None, 5, 5, 16)\n",
      "flatten -->  (None, 400)\n",
      "full_1 -->  (None, 120)\n",
      "full_2 -->  (None, 84)\n",
      "output -->  (None, 10)\n",
      "Epoch 1/5\n",
      "60000/60000 [==============================] - 12s 202us/step - loss: 0.5444 - acc: 0.8355\n",
      "Epoch 2/5\n",
      "60000/60000 [==============================] - 7s 109us/step - loss: 0.3837 - acc: 0.8866\n",
      "Epoch 3/5\n",
      "60000/60000 [==============================] - 7s 120us/step - loss: 0.3672 - acc: 0.8915\n",
      "Epoch 4/5\n",
      "60000/60000 [==============================] - 9s 142us/step - loss: 0.3580 - acc: 0.8958\n",
      "Epoch 5/5\n",
      "60000/60000 [==============================] - 7s 125us/step - loss: 0.3527 - acc: 0.8970\n",
      "cost:  41\n",
      "10000/10000 [==============================] - 0s 29us/step\n",
      "loss:  0.31097487979829314\n",
      "ac:  0.9135\n"
     ]
    }
   ],
   "source": [
    "# (!!!error)setup letnet-5 (7 layers)\n",
    "# alias avg_pooling == ap\n",
    "# conv1 + ap_1(5*5) + cov2 + ap_2(5*5) + full_1 + full_2 + output\n",
    "import keras\n",
    "from keras.models import Sequential\n",
    "from keras.layers import Dense, Conv2D, Flatten, AveragePooling2D, Dropout\n",
    "from keras.optimizers import SGD\n",
    "\n",
    "model = Sequential()\n",
    "model.add(Conv2D(6, (5,5), padding='same', input_shape=(28,28,1))) #1\n",
    "print(\"conv2d_1--> \", model.output_shape)\n",
    "model.add(AveragePooling2D(pool_size=(2,2)))#2\n",
    "print(\"avg_pooling_1--> \", model.output_shape)\n",
    "model.add(Conv2D(16, (5,5)))#3\n",
    "print(\"conv2d_2--> \", model.output_shape)\n",
    "model.add(Dropout(0.375))\n",
    "model.add(AveragePooling2D(pool_size=(2,2)))#4\n",
    "print(\"avg_pooling_2--> \", model.output_shape)\n",
    "model.add(Flatten())\n",
    "print(\"flatten --> \", model.output_shape)\n",
    "model.add(Dense(120))#5\n",
    "print(\"full_1 --> \", model.output_shape)\n",
    "model.add(Dense(84))#6\n",
    "print(\"full_2 --> \", model.output_shape)\n",
    "model.add(Dense(10, activation='softmax'))\n",
    "print('output --> ', model.output_shape)#7\n",
    "\n",
    "# compile\n",
    "model.compile(optimizer='sgd', loss='sparse_categorical_crossentropy', metrics=['accuracy'])\n",
    "\n",
    "# train\n",
    "import datetime\n",
    "x_train = x_train.reshape(x_train.shape[0], x_train.shape[1], x_train.shape[2], 1)\n",
    "x_test = x_test.reshape(x_test.shape[0], x_test.shape[1], x_test.shape[2], 1)\n",
    "# train\n",
    "start_tm = datetime.datetime.now()\n",
    "model.fit(x_train, y_train, epochs=5)\n",
    "end_tm = datetime.datetime.now()\n",
    "print(\"cost: \", (end_tm-start_tm).seconds)\n",
    "\n",
    "# evaluate\n",
    "scores = model.evaluate(x_test, y_test)\n",
    "\n",
    "print(\"loss: \", scores[0])\n",
    "print(\"ac: \", scores[1])"
   ]
  },
  {
   "cell_type": "code",
   "execution_count": 5,
   "metadata": {},
   "outputs": [
    {
     "name": "stdout",
     "output_type": "stream",
     "text": [
      "conv2d_1-->  (None, 28, 28, 6)\n",
      "avg_pooling_1-->  (None, 14, 14, 6)\n",
      "conv2d_2-->  (None, 10, 10, 16)\n",
      "avg_pooling_2-->  (None, 5, 5, 16)\n",
      "conv2d_3 -->  (None, 1, 1, 120)\n",
      "full_1 -->  (None, 84)\n",
      "output -->  (None, 10)\n"
     ]
    }
   ],
   "source": [
    "# (correction)setup letnet-5 (7 layers)\n",
    "# alias avg_pooling == ap\n",
    "# conv1 + ap_1(5*5) + cov2 + ap_2(5*5) + conv_3 + full_1 + output\n",
    "import keras\n",
    "from keras.models import Sequential\n",
    "from keras.layers import Dense, Conv2D, Flatten, AveragePooling2D, Dropout\n",
    "from keras.optimizers import SGD\n",
    "\n",
    "model = Sequential()\n",
    "model.add(Conv2D(6, (5,5), padding='same', input_shape=(28,28,1))) #1\n",
    "print(\"conv2d_1--> \", model.output_shape)\n",
    "model.add(AveragePooling2D(pool_size=(2,2)))#2\n",
    "print(\"avg_pooling_1--> \", model.output_shape)\n",
    "model.add(Conv2D(16, (5,5)))#3\n",
    "print(\"conv2d_2--> \", model.output_shape)\n",
    "model.add(Dropout(0.375))\n",
    "model.add(AveragePooling2D(pool_size=(2,2)))#4\n",
    "print(\"avg_pooling_2--> \", model.output_shape)\n",
    "model.add(Conv2D(120, (5,5)))#5\n",
    "print(\"conv2d_3 --> \", model.output_shape)\n",
    "model.add(Flatten())\n",
    "model.add(Dense(84))#6\n",
    "print(\"full_1 --> \", model.output_shape)\n",
    "model.add(Dense(10, activation='softmax'))#7\n",
    "print('output --> ', model.output_shape)\n",
    "\n",
    "# compile\n",
    "model.compile(optimizer='sgd', loss='sparse_categorical_crossentropy', metrics=['accuracy'])"
   ]
  },
  {
   "cell_type": "code",
   "execution_count": 6,
   "metadata": {},
   "outputs": [
    {
     "name": "stdout",
     "output_type": "stream",
     "text": [
      "(60000, 28, 28, 1)\n",
      "(60000,)\n",
      "Epoch 1/5\n",
      "60000/60000 [==============================] - 11s 186us/step - loss: 0.6035 - acc: 0.8204\n",
      "Epoch 2/5\n",
      "60000/60000 [==============================] - 8s 140us/step - loss: 0.3802 - acc: 0.8865\n",
      "Epoch 3/5\n",
      "60000/60000 [==============================] - 10s 169us/step - loss: 0.3633 - acc: 0.8941\n",
      "Epoch 4/5\n",
      "60000/60000 [==============================] - 4s 75us/step - loss: 0.3560 - acc: 0.8955\n",
      "Epoch 5/5\n",
      "60000/60000 [==============================] - 7s 118us/step - loss: 0.3498 - acc: 0.8980\n",
      "cost:  41\n",
      "10000/10000 [==============================] - 0s 32us/step\n",
      "loss:  0.3086549017041922\n",
      "ac:  0.9128\n"
     ]
    }
   ],
   "source": [
    "import datetime\n",
    "train_data = x_train.reshape(x_train.shape[0], x_train.shape[1], x_train.shape[2], 1)\n",
    "test_data = x_test.reshape(x_test.shape[0], x_test.shape[1], x_test.shape[2], 1)\n",
    "train_label = y_train\n",
    "test_label = y_test\n",
    "\n",
    "print(x_train.shape)\n",
    "print(y_train.shape)\n",
    "# train\n",
    "start_tm = datetime.datetime.now()\n",
    "model.fit(train_data, train_label, epochs=5)\n",
    "end_tm = datetime.datetime.now()\n",
    "print(\"cost: \", (end_tm-start_tm).seconds)\n",
    "\n",
    "scores = model.evaluate(x_test, y_test)\n",
    "\n",
    "print(\"loss: \", scores[0])\n",
    "print(\"ac: \", scores[1])\n"
   ]
  },
  {
   "cell_type": "code",
   "execution_count": 17,
   "metadata": {},
   "outputs": [
    {
     "name": "stdout",
     "output_type": "stream",
     "text": [
      "padding-->  (None, 32, 32, 1)\n",
      "conv2d_1-->  (None, 28, 28, 6)\n",
      "avg_pooling_1-->  (None, 14, 14, 6)\n",
      "conv2d_2-->  (None, 10, 10, 16)\n",
      "avg_pooling_2-->  (None, 5, 5, 16)\n",
      "conv2d_3 -->  (None, 1, 1, 120)\n",
      "full_1 -->  (None, 84)\n",
      "output -->  (None, 10)\n",
      "(60000, 28, 28, 1)\n",
      "(60000,)\n",
      "Epoch 1/5\n",
      "60000/60000 [==============================] - 8s 133us/step - loss: 0.4155 - acc: 0.8899\n",
      "Epoch 2/5\n",
      "60000/60000 [==============================] - 7s 123us/step - loss: 0.2450 - acc: 0.9287\n",
      "Epoch 3/5\n",
      "60000/60000 [==============================] - 7s 116us/step - loss: 0.2024 - acc: 0.9419\n",
      "Epoch 4/5\n",
      "60000/60000 [==============================] - 9s 146us/step - loss: 0.1785 - acc: 0.9487\n",
      "Epoch 5/5\n",
      "60000/60000 [==============================] - 8s 126us/step - loss: 0.1615 - acc: 0.9541\n",
      "cost:  38\n",
      "10000/10000 [==============================] - 0s 42us/step\n",
      "loss:  0.14773420667648315\n",
      "ac:  0.9578\n"
     ]
    }
   ],
   "source": [
    "# (correction)setup lenet-5 (7 layers) 原始版本\n",
    "# alias avg_pooling == ap\n",
    "# conv1 + ap_1(5*5) + cov2 + ap_2(5*5) + conv_3 + full_1 + output\n",
    "import keras\n",
    "from keras.models import Sequential\n",
    "from keras.layers import Dense, Conv2D, Flatten, AveragePooling2D, Dropout, ZeroPadding2D\n",
    "from keras.optimizers import SGD\n",
    "\n",
    "from keras.layers import Layer\n",
    "from keras import backend as K\n",
    "\n",
    "class RBFLayer(Layer):\n",
    "    def __init__(self, units, gamma, **kwargs):\n",
    "        super(RBFLayer, self).__init__(**kwargs)\n",
    "        self.units = units\n",
    "        self.gamma = K.cast_to_floatx(gamma)\n",
    "\n",
    "    def build(self, input_shape):\n",
    "        self.mu = self.add_weight(name='mu',\n",
    "                                  shape=(int(input_shape[1]), self.units),\n",
    "                                  initializer='uniform',\n",
    "                                  trainable=True)\n",
    "        super(RBFLayer, self).build(input_shape)\n",
    "\n",
    "    def call(self, inputs):\n",
    "        diff = K.expand_dims(inputs) - self.mu\n",
    "        l2 = K.sum(K.pow(diff,2), axis=1) # 高斯径向基函数\n",
    "        res = K.exp(-1 * self.gamma * l2) # \n",
    "        return res\n",
    "\n",
    "    def compute_output_shape(self, input_shape):\n",
    "        return (input_shape[0], self.units)\n",
    "\n",
    "model = Sequential()\n",
    "model.add(ZeroPadding2D(2, input_shape=(28,28,1)))\n",
    "print(\"padding--> \", model.output_shape) \n",
    "#1 28×28×6\n",
    "# 训练参数计算规则 （cx_size*cy_size*上一层维度（特征图个数）+1）*当前层维度\n",
    "# 连接数 当前层和上一层的连接数  训练参数个数*特征图w*特征图h\n",
    "# 训练参数 156 = （5×5+1）×6 \n",
    "# 连接数 122304 = （5×5+1）×6×（28×28）\n",
    "model.add(Conv2D(6, (5,5)))#1 \n",
    "print(\"conv2d_1--> \", model.output_shape) \n",
    "#2 14×14×6 \n",
    "#训练参数 12 6*(1+1) 当前层数（偏置+采样参数）\n",
    "#连接数 5880 = （2×2 + 1）*6*(14*14)\n",
    "model.add(AveragePooling2D(pool_size=(2,2)))#2\n",
    "print(\"avg_pooling_1--> \", model.output_shape)\n",
    "#3 10×10×16 \n",
    "#训练参数 1516 = (3*5*5+ 1)*6 + (4*5*5+1)*6 + (4*5*5+1)*3 + (6*5*5+1)\n",
    "#连接数 151600 = (3*5*5+ 1)*6×（10×10） + (4*5*5+1)*6×（10×10） + (4*5*5+1)*3*(10*10) + (6*5*5+1)*(10*10)\n",
    "model.add(Conv2D(16, (5,5)))#3\n",
    "print(\"conv2d_2--> \", model.output_shape)\n",
    "#4 5*5*16\n",
    "#训练参数 32 = 16*(1+1)\n",
    "#连接个数 2000 = （2*2*1 + 1）*6*(5*5) \n",
    "model.add(AveragePooling2D(pool_size=(2,2)))#4\n",
    "print(\"avg_pooling_2--> \", model.output_shape)\n",
    "#5 1*1*120\n",
    "#训练参数 48120 = (5*5*16 + 1)*120\n",
    "#连接个数 48120 = (5*5*16 + 1)*120*(1*1)\n",
    "model.add(Conv2D(120, (5,5)))#5\n",
    "print(\"conv2d_3 --> \", model.output_shape)\n",
    "model.add(Flatten())\n",
    "#6 1*1*84\n",
    "#训练参数 10164 = (1*1*120+1)*84\n",
    "#连接个数 10164 = (1*1*120+1)*84*(1*1)\n",
    "model.add(Dense(84, activation='tanh'))#6\n",
    "print(\"full_1 --> \", model.output_shape)\n",
    "#7 1*1*10\n",
    "#训练参数 850 = （1*1*84+1)*10(1*1)\n",
    "#连接个数 850 = （1*1*84+1)*10(1*1)\n",
    "#model.add(Dense(10, activation='sigmoid'))#7\n",
    "model.add(RBFLayer(10,0.5))\n",
    "print('output --> ', model.output_shape)\n",
    "\n",
    "# compile\n",
    "model.compile(optimizer='adam', loss='sparse_categorical_crossentropy', metrics=['accuracy'])\n",
    "\n",
    "import datetime\n",
    "train_data = x_train.reshape(x_train.shape[0], x_train.shape[1], x_train.shape[2], 1)\n",
    "test_data = x_test.reshape(x_test.shape[0], x_test.shape[1], x_test.shape[2], 1)\n",
    "train_label = y_train\n",
    "test_label = y_test\n",
    "\n",
    "print(x_train.shape)\n",
    "print(y_train.shape)\n",
    "# train\n",
    "start_tm = datetime.datetime.now()\n",
    "model.fit(train_data, train_label, epochs=5)\n",
    "end_tm = datetime.datetime.now()\n",
    "print(\"cost: \", (end_tm-start_tm).seconds)\n",
    "\n",
    "scores = model.evaluate(x_test, y_test)\n",
    "\n",
    "print(\"loss: \", scores[0])\n",
    "print(\"ac: \", scores[1])"
   ]
  },
  {
   "cell_type": "code",
   "execution_count": null,
   "metadata": {},
   "outputs": [],
   "source": []
  }
 ],
 "metadata": {
  "kernelspec": {
   "display_name": "Python 3",
   "language": "python",
   "name": "python3"
  },
  "language_info": {
   "codemirror_mode": {
    "name": "ipython",
    "version": 3
   },
   "file_extension": ".py",
   "mimetype": "text/x-python",
   "name": "python",
   "nbconvert_exporter": "python",
   "pygments_lexer": "ipython3",
   "version": "3.6.7"
  }
 },
 "nbformat": 4,
 "nbformat_minor": 2
}
